{
 "cells": [
  {
   "cell_type": "markdown",
   "id": "e0f28081-8bf6-4e40-8365-2cee179c96bb",
   "metadata": {},
   "source": [
    "# Vacuum Adapters\n",
    "\n",
    "## Cyclone Adapters"
   ]
  },
  {
   "cell_type": "code",
   "execution_count": 1,
   "id": "cab38a29-398f-4a61-9577-93b30e80c6e1",
   "metadata": {},
   "outputs": [
    {
     "name": "stdout",
     "output_type": "stream",
     "text": [
      "Overwriting auto display for cadquery Workplane and Shape\n"
     ]
    }
   ],
   "source": [
    "import cadquery as cq\n",
    "from jupyter_cadquery import (\n",
    "    PartGroup, Part, Edges, Faces, Vertices, show,\n",
    "    close_viewer, close_viewers, get_viewer, open_viewer, set_defaults, get_defaults\n",
    ")\n",
    "\n",
    "from jupyter_cadquery.replay import replay, enable_replay, disable_replay, reset_replay"
   ]
  },
  {
   "cell_type": "code",
   "execution_count": 2,
   "id": "1106c6f7-8c67-4ca1-a29c-569c0c849dea",
   "metadata": {},
   "outputs": [],
   "source": [
    "set_defaults(axes=True, timeit=False)"
   ]
  },
  {
   "cell_type": "code",
   "execution_count": 3,
   "id": "467fa65c-04f6-4c85-9421-a8eced89fe5b",
   "metadata": {},
   "outputs": [],
   "source": [
    "cv = open_viewer(\"Adapters\", cad_width=1200, height=1200, glass=True)"
   ]
  },
  {
   "cell_type": "code",
   "execution_count": 4,
   "id": "d5aade1c-8796-435e-be6c-4294305f9d63",
   "metadata": {},
   "outputs": [
    {
     "name": "stdout",
     "output_type": "stream",
     "text": [
      "\n",
      "Enabling jupyter_cadquery replay\n"
     ]
    }
   ],
   "source": [
    "enable_replay(False, False)\n",
    "show_object = replay"
   ]
  },
  {
   "cell_type": "code",
   "execution_count": 5,
   "id": "797a32c6-a8ef-4138-b419-bff69926f1b6",
   "metadata": {},
   "outputs": [],
   "source": [
    "cyclone_inner_diameter = 50.75\n",
    "cyclone_outer_diameter = 65.2\n",
    "vacuum_hose_screw_pitch = 5 # mm per revolution\n",
    "vacuum_hose_screw_height = 3 - 0.1\n",
    "vacuum_hose_screw_width = 1.2\n",
    "vacuum_hose_screw_angle = 0\n",
    "vacuum_hose_outer_diameter = 39.5"
   ]
  },
  {
   "cell_type": "code",
   "execution_count": null,
   "id": "ebe2d0a3-b4e9-4b42-b5a8-f195909814ed",
   "metadata": {},
   "outputs": [],
   "source": []
  },
  {
   "cell_type": "code",
   "execution_count": 6,
   "id": "d742ae6c-fe64-44cb-a5d9-f005147cb79a",
   "metadata": {},
   "outputs": [
    {
     "name": "stdout",
     "output_type": "stream",
     "text": [
      "Use the multi select box below to select one or more steps you want to examine\n"
     ]
    },
    {
     "data": {
      "application/vnd.jupyter.widget-view+json": {
       "model_id": "1b134296f9bd42078230f8f1e03dc7a0",
       "version_major": 2,
       "version_minor": 0
      },
      "text/plain": [
       "HBox(children=(SelectMultiple(_dom_classes=('monospace',), index=(3,), layout=Layout(width='600px'), options=(…"
      ]
     },
     "metadata": {},
     "output_type": "display_data"
    },
    {
     "data": {
      "text/plain": [
       "<jupyter_cadquery.replay.Replay at 0x7f0cad9db0a0>"
      ]
     },
     "execution_count": 6,
     "metadata": {},
     "output_type": "execute_result"
    }
   ],
   "source": [
    "def make_hose_helix_connecter(height):\n",
    "    p = -vacuum_hose_screw_pitch\n",
    "    h = height\n",
    "\n",
    "    # Helix\n",
    "    wire = cq.Wire.makeHelix(pitch=p, height=h, radius=vacuum_hose_outer_diameter)\n",
    "    helix = cq.Workplane(obj=wire)\n",
    "    return (\n",
    "        cq.Workplane(\"XZ\")  # helix is moving up the Z axis\n",
    "        .center(vacuum_hose_outer_diameter / 2, 0)  # offset isosceles trapezoid\n",
    "        .polyline(((-vacuum_hose_screw_height, vacuum_hose_screw_width / -3), (0.0, - vacuum_hose_screw_width), (0, vacuum_hose_screw_width), (-vacuum_hose_screw_height,  vacuum_hose_screw_width / 3)))\n",
    "        .close()  # make edges a wire\n",
    "        .sweep(helix, isFrenet=True)  # Frenet keeps orientation as expected\n",
    "    )\n",
    "\n",
    "show_object(make_hose_helix_connecter(40))\n"
   ]
  },
  {
   "cell_type": "code",
   "execution_count": 7,
   "id": "2fb961f1-c166-4609-a16c-24edb5ee1f3e",
   "metadata": {},
   "outputs": [
    {
     "name": "stdout",
     "output_type": "stream",
     "text": [
      "Use the multi select box below to select one or more steps you want to examine\n"
     ]
    },
    {
     "data": {
      "application/vnd.jupyter.widget-view+json": {
       "model_id": "4d0742ca19e5497c8f8d1e8bbf74fd94",
       "version_major": 2,
       "version_minor": 0
      },
      "text/plain": [
       "HBox(children=(SelectMultiple(_dom_classes=('monospace',), index=(14,), layout=Layout(width='600px'), options=…"
      ]
     },
     "metadata": {},
     "output_type": "display_data"
    }
   ],
   "source": [
    "def make_coupler(height):\n",
    "    mantel_width = (cyclone_inner_diameter - vacuum_hose_outer_diameter) / 2\n",
    "    rectangle_length = height\n",
    "    stopper_width = (cyclone_outer_diameter - vacuum_hose_outer_diameter) / 2\n",
    "    angle_degrees = 360.0\n",
    "    \n",
    "    helix = make_hose_helix_connecter(height)\n",
    "\n",
    "    return helix + (\n",
    "        cq.Workplane(\"XZ\")\n",
    "        .center(vacuum_hose_outer_diameter / 2, 0)\n",
    "        .rect(mantel_width, rectangle_length, False)\n",
    "        .polyline(((0, 0), (mantel_width, 0), (mantel_width, -10), (0, -vacuum_hose_screw_width)))\n",
    "        .close()\n",
    "        .center(0, height + 5)\n",
    "        .rect(stopper_width, -5, False)\n",
    "        .center(0, -(height + 5))\n",
    "        .center(-vacuum_hose_outer_diameter / 2, 0)\n",
    "        .revolve()\n",
    "        .fillet(1.0)\n",
    "    )\n",
    "\n",
    "# Displays the result of this script\n",
    "coupler = make_coupler(20)\n",
    "show_object(coupler)\n",
    "\n",
    "cq.exporters.export(coupler, \"coupler.stl\")"
   ]
  }
 ],
 "metadata": {
  "kernelspec": {
   "display_name": "Python 3 (ipykernel)",
   "language": "python",
   "name": "python3"
  },
  "language_info": {
   "codemirror_mode": {
    "name": "ipython",
    "version": 3
   },
   "file_extension": ".py",
   "mimetype": "text/x-python",
   "name": "python",
   "nbconvert_exporter": "python",
   "pygments_lexer": "ipython3",
   "version": "3.9.12"
  }
 },
 "nbformat": 4,
 "nbformat_minor": 5
}
